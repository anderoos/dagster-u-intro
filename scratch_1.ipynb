{
 "cells": [
  {
   "cell_type": "code",
   "execution_count": 70,
   "id": "initial_id",
   "metadata": {
    "collapsed": true,
    "ExecuteTime": {
     "end_time": "2024-06-27T20:55:41.777114Z",
     "start_time": "2024-06-27T20:55:41.773235Z"
    }
   },
   "outputs": [],
   "source": [
    "from dagster import asset\n",
    "from datetime import datetime\n",
    "\n",
    "import plotly.express as px\n",
    "import plotly.io as pio\n",
    "import geopandas as gpd\n",
    "import pandas as pd\n",
    "\n",
    "import duckdb\n",
    "import os"
   ]
  },
  {
   "cell_type": "code",
   "execution_count": 71,
   "outputs": [],
   "source": [
    "TAXI_ZONES_FILE_PATH = \"data/raw/taxi_zones.csv\"\n",
    "TAXI_TRIPS_TEMPLATE_FILE_PATH = \"data/raw/taxi_trips_{}.parquet\"\n",
    "\n",
    "TRIPS_BY_AIRPORT_FILE_PATH = \"data/outputs/trips_by_airport.csv\"\n",
    "TRIPS_BY_WEEK_FILE_PATH = \"data/outputs/trips_by_week.csv\"\n",
    "MANHATTAN_STATS_FILE_PATH = \"data/staging/manhattan_stats.geojson\"\n",
    "MANHATTAN_MAP_FILE_PATH = \"data/outputs/manhattan_map.png\"\n",
    "\n",
    "REQUEST_DESTINATION_TEMPLATE_FILE_PATH = \"data/outputs/{}.png\"\n",
    "\n",
    "DATE_FORMAT = \"%Y-%m-%d\"\n",
    "\n",
    "START_DATE = \"2023-01-01\"\n",
    "END_DATE = \"2023-04-01\"\n"
   ],
   "metadata": {
    "collapsed": false,
    "ExecuteTime": {
     "end_time": "2024-06-27T20:55:42.107497Z",
     "start_time": "2024-06-27T20:55:42.105659Z"
    }
   },
   "id": "4609a47897b33864"
  },
  {
   "cell_type": "code",
   "execution_count": 74,
   "outputs": [],
   "source": [
    "conn = duckdb.connect(\"data/staging/data.duckdb\")\n",
    "date_range = pd.date_range(start=\"03-01-2023\", end='04-01-2023', freq='W-SUN')\n",
    "result = pd.DataFrame()\n",
    "for current_date in date_range:\n",
    "    current_date_fmt = current_date.strftime(DATE_FORMAT)\n",
    "    query = f\"\"\"\n",
    "            SELECT \n",
    "                vendor_id, total_amount, trip_distance, passenger_count\n",
    "            FROM trips\n",
    "            WHERE date_trunc('week', pickup_datetime) = date_trunc('week', '{current_date_fmt}'::date)\n",
    "        \"\"\"\n",
    "    data_for_week = conn.execute(query).fetch_df()\n",
    "    data_for_week['period'] = current_date\n",
    "    data_by_week = data_for_week.groupby('period').agg({\n",
    "        \"vendor_id\": \"count\",\n",
    "        \"total_amount\": \"sum\",\n",
    "        \"trip_distance\": \"sum\",\n",
    "        \"passenger_count\": \"sum\"\n",
    "    }).rename({\"vendor_id\": \"num_trips\"})\n",
    "    result = pd.concat([result, data_by_week])\n"
   ],
   "metadata": {
    "collapsed": false,
    "ExecuteTime": {
     "end_time": "2024-06-27T20:57:17.747759Z",
     "start_time": "2024-06-27T20:57:17.448314Z"
    }
   },
   "id": "efd819f068a9afed"
  },
  {
   "cell_type": "code",
   "execution_count": 75,
   "outputs": [
    {
     "data": {
      "text/plain": "            vendor_id  total_amount  trip_distance  passenger_count\nperiod                                                             \n2023-03-05     560895   15181854.49     2412606.42         739953.0\n2023-03-12     774813   21192570.67     2739557.76        1019293.0\n2023-03-19     787016   22096056.77     3079735.47        1044648.0\n2023-03-26     734288   20675428.19     2935650.00         969859.0",
      "text/html": "<div>\n<style scoped>\n    .dataframe tbody tr th:only-of-type {\n        vertical-align: middle;\n    }\n\n    .dataframe tbody tr th {\n        vertical-align: top;\n    }\n\n    .dataframe thead th {\n        text-align: right;\n    }\n</style>\n<table border=\"1\" class=\"dataframe\">\n  <thead>\n    <tr style=\"text-align: right;\">\n      <th></th>\n      <th>vendor_id</th>\n      <th>total_amount</th>\n      <th>trip_distance</th>\n      <th>passenger_count</th>\n    </tr>\n    <tr>\n      <th>period</th>\n      <th></th>\n      <th></th>\n      <th></th>\n      <th></th>\n    </tr>\n  </thead>\n  <tbody>\n    <tr>\n      <th>2023-03-05</th>\n      <td>560895</td>\n      <td>15181854.49</td>\n      <td>2412606.42</td>\n      <td>739953.0</td>\n    </tr>\n    <tr>\n      <th>2023-03-12</th>\n      <td>774813</td>\n      <td>21192570.67</td>\n      <td>2739557.76</td>\n      <td>1019293.0</td>\n    </tr>\n    <tr>\n      <th>2023-03-19</th>\n      <td>787016</td>\n      <td>22096056.77</td>\n      <td>3079735.47</td>\n      <td>1044648.0</td>\n    </tr>\n    <tr>\n      <th>2023-03-26</th>\n      <td>734288</td>\n      <td>20675428.19</td>\n      <td>2935650.00</td>\n      <td>969859.0</td>\n    </tr>\n  </tbody>\n</table>\n</div>"
     },
     "execution_count": 75,
     "metadata": {},
     "output_type": "execute_result"
    }
   ],
   "source": [
    "result.tail(5)"
   ],
   "metadata": {
    "collapsed": false,
    "ExecuteTime": {
     "end_time": "2024-06-27T20:57:20.641700Z",
     "start_time": "2024-06-27T20:57:20.635480Z"
    }
   },
   "id": "a1a81f2a548894aa"
  },
  {
   "cell_type": "code",
   "execution_count": null,
   "outputs": [],
   "source": [],
   "metadata": {
    "collapsed": false
   },
   "id": "5860903bb68425ed"
  }
 ],
 "metadata": {
  "kernelspec": {
   "name": "pythondata",
   "language": "python",
   "display_name": "PythonData"
  },
  "language_info": {
   "codemirror_mode": {
    "name": "ipython",
    "version": 2
   },
   "file_extension": ".py",
   "mimetype": "text/x-python",
   "name": "python",
   "nbconvert_exporter": "python",
   "pygments_lexer": "ipython2",
   "version": "2.7.6"
  }
 },
 "nbformat": 4,
 "nbformat_minor": 5
}
